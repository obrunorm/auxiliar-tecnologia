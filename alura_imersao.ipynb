{
  "nbformat": 4,
  "nbformat_minor": 0,
  "metadata": {
    "colab": {
      "provenance": [],
      "authorship_tag": "ABX9TyOf2A1bu+8nVcBEZweQ3xt2",
      "include_colab_link": true
    },
    "kernelspec": {
      "name": "python3",
      "display_name": "Python 3"
    },
    "language_info": {
      "name": "python"
    }
  },
  "cells": [
    {
      "cell_type": "markdown",
      "metadata": {
        "id": "view-in-github",
        "colab_type": "text"
      },
      "source": [
        "<a href=\"https://colab.research.google.com/github/obrunorm/auxiliar-tecnologia/blob/main/alura_imersao.ipynb\" target=\"_parent\"><img src=\"https://colab.research.google.com/assets/colab-badge.svg\" alt=\"Open In Colab\"/></a>"
      ]
    },
    {
      "cell_type": "markdown",
      "source": [
        "#**Configuração do GEMINI**"
      ],
      "metadata": {
        "id": "sMZloWccmBJV"
      }
    },
    {
      "cell_type": "code",
      "execution_count": 11,
      "metadata": {
        "id": "eHvDRVNCvbWF"
      },
      "outputs": [],
      "source": [
        "pip install -q -U google-generativeai"
      ]
    },
    {
      "cell_type": "code",
      "source": [
        "import google.generativeai as genai\n",
        "\n",
        "GOOGLE_API_KEY=\"YOU_API_KEY\"\n",
        "genai.configure(api_key=GOOGLE_API_KEY)"
      ],
      "metadata": {
        "id": "istn7J2Dz_kS"
      },
      "execution_count": 12,
      "outputs": []
    },
    {
      "cell_type": "code",
      "source": [
        "for m in genai.list_models():\n",
        "  if 'generateContent' in m.supported_generation_methods:\n",
        "    print(m.name)"
      ],
      "metadata": {
        "colab": {
          "base_uri": "https://localhost:8080/",
          "height": 139
        },
        "id": "Eqnp7Nz40vzE",
        "outputId": "78407e42-7689-4807-ef1c-e121ed3ac7a6"
      },
      "execution_count": 13,
      "outputs": [
        {
          "output_type": "stream",
          "name": "stdout",
          "text": [
            "models/gemini-1.0-pro\n",
            "models/gemini-1.0-pro-001\n",
            "models/gemini-1.0-pro-latest\n",
            "models/gemini-1.0-pro-vision-latest\n",
            "models/gemini-1.5-pro-latest\n",
            "models/gemini-pro\n",
            "models/gemini-pro-vision\n"
          ]
        }
      ]
    },
    {
      "cell_type": "code",
      "source": [
        "generation_config = {\n",
        "    \"candidate_count\": 1,\n",
        "    \"temperature\": 1,\n",
        "}"
      ],
      "metadata": {
        "id": "zU0xHGqi02yr"
      },
      "execution_count": 25,
      "outputs": []
    },
    {
      "cell_type": "code",
      "source": [
        "safety_settings = [\n",
        "  {\n",
        "    \"category\": \"HARM_CATEGORY_HARASSMENT\",\n",
        "    \"threshold\": \"BLOCK_MEDIUM_AND_ABOVE\"\n",
        "  },\n",
        "  {\n",
        "    \"category\": \"HARM_CATEGORY_HATE_SPEECH\",\n",
        "    \"threshold\": \"BLOCK_MEDIUM_AND_ABOVE\"\n",
        "  },\n",
        "  {\n",
        "    \"category\": \"HARM_CATEGORY_SEXUALLY_EXPLICIT\",\n",
        "    \"threshold\": \"BLOCK_MEDIUM_AND_ABOVE\"\n",
        "  },\n",
        "  {\n",
        "    \"category\": \"HARM_CATEGORY_DANGEROUS_CONTENT\",\n",
        "    \"threshold\": \"BLOCK_MEDIUM_AND_ABOVE\"\n",
        "  },\n",
        "]"
      ],
      "metadata": {
        "id": "W7_6qRag1ZbW"
      },
      "execution_count": 15,
      "outputs": []
    },
    {
      "cell_type": "code",
      "source": [
        "model = genai.GenerativeModel(model_name=\"gemini-1.0-pro\",\n",
        "                              generation_config=generation_config,\n",
        "                              safety_settings=safety_settings)"
      ],
      "metadata": {
        "id": "4B8i7cE01w2g"
      },
      "execution_count": 16,
      "outputs": []
    },
    {
      "cell_type": "code",
      "source": [
        "chat = model.start_chat(history=[])"
      ],
      "metadata": {
        "id": "V3PWcYC04aOH"
      },
      "execution_count": 68,
      "outputs": []
    },
    {
      "cell_type": "markdown",
      "source": [
        "# **Implementação**"
      ],
      "metadata": {
        "id": "xE4AST2lqGsd"
      }
    },
    {
      "cell_type": "code",
      "source": [
        "# Loop para enviar e imprimir respostas\n",
        "while True:\n",
        "    # Solicitar uma nova tecnologia e tema\n",
        "    tema = input(\"Digite um tema (ou 'fim' para encerrar): \")\n",
        "    if tema.lower() == \"fim\":\n",
        "        break\n",
        "\n",
        "    # Definir o exercício com base na tecnologia e no tema\n",
        "    exercicio = f\"Haja como um professor e escreva apenas 1 exercício básico de multipla escolha se baseando no tema {tema}, mostre apenas o exercicios e as alternativas, não mostre a alternativa correta\"\n",
        "\n",
        "    # Enviar mensagem para o chatbot\n",
        "    resposta_ia = chat.send_message(exercicio)\n",
        "\n",
        "    # Imprimir a pergunta/exercício\n",
        "    print(\"-------------------------------------------\")\n",
        "    print(\"Pergunta/Exercício:\")\n",
        "    print(resposta_ia.text)\n",
        "    print(\"-------------------------------------------\")\n",
        "\n",
        "    # Solicitar a resposta do aluno\n",
        "    resposta_aluno = input(\"Digite sua resposta: \")\n",
        "\n",
        "    teste = f\"Verifique se a {resposta_aluno} está correta comparado ao {resposta_ia.text} e fale se está correta ou incorreta comparando a alternativa escolhida, dê um exemplo de como resolver essa questão usando o python, seja o mais criativo possivel, utilize os mais variado tipo de dados sobre o tema e use areas diferentes do python para as respostas como analise de dados, games, ia, biblioteca, métodos...\"\n",
        "\n",
        "    # Avaliar a resposta do aluno\n",
        "    #resultado_avaliacao = avaliar_resposta(resposta_ia.resposta_correta, resposta_aluno)\n",
        "    resultado_avaliacao = chat.send_message(teste)\n",
        "\n",
        "    # Fornecer feedback com base no resultado da avaliação\n",
        "    print(\"-------------------------------------------\")\n",
        "    print()\n",
        "    print(\"O resultado é \", resultado_avaliacao.text)\n",
        "    print(\"-------------------------------------------\")\n",
        "    print(\"Você pode testar esse código agora mesmo e até melhorar ele se quiser!!!\")\n",
        "    print (\"Não esqueça de instalar as bibliotecas necessárias antes\")\n",
        "    chat.history.clear()\n",
        "\n",
        "    print()  # Adicionar uma linha em branco para separar as interações\n"
      ],
      "metadata": {
        "id": "C0jk_i0inSMy"
      },
      "execution_count": null,
      "outputs": []
    }
  ]
}